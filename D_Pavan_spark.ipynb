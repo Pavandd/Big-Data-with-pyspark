{
 "cells": [
  {
   "cell_type": "code",
   "execution_count": 1,
   "id": "17136584",
   "metadata": {},
   "outputs": [],
   "source": [
    "import findspark\n",
    "findspark.init()"
   ]
  },
  {
   "cell_type": "code",
   "execution_count": 2,
   "id": "7017ed9d",
   "metadata": {},
   "outputs": [],
   "source": [
    "from pyspark.sql import SparkSession, types as T, functions as F\n",
    "from collections import Counter\n",
    "spark = SparkSession.builder.getOrCreate()"
   ]
  },
  {
   "cell_type": "code",
   "execution_count": 3,
   "id": "201d4812",
   "metadata": {},
   "outputs": [],
   "source": [
    "class Transactions:\n",
    "    \n",
    "    # Initialse object with json file as parameter\n",
    "    def __init__(self,file):\n",
    "        self.df = spark.read.json(file,multiLine=True)\n",
    "        \n",
    "    # This functions transforms the dataframe to columns: customer_id, product_id, purchase_count_per_product_id\n",
    "    def transform_data(self):  \n",
    "        \n",
    "        # create a map with product_id as key and count as value with udf\n",
    "        func = F.udf(lambda x: dict(Counter(x)), T.MapType(T.StringType(), T.IntegerType()))\n",
    "        self.df = self.df.withColumn('Product_Map',func(self.df.basket['product_id']))\n",
    "        \n",
    "        # Explode the keys of map into each new rows and select required columns\n",
    "        self.df = self.df.select('customer_id',F.explode(self.df['Product_Map']))\n",
    "        \n",
    "        # Name the columns \n",
    "        self.df = self.df.withColumnRenamed('key','product_id')\n",
    "        self.df = self.df.withColumnRenamed('value','purchase_count_per_product_id')"
   ]
  },
  {
   "cell_type": "code",
   "execution_count": 4,
   "id": "a9e94ca1",
   "metadata": {},
   "outputs": [],
   "source": [
    "class Customers:\n",
    "    \n",
    "    # Initialse object with csv file as parameter\n",
    "    def __init__(self,file):\n",
    "        self.df = spark.read.csv(file,header=True)\n",
    "    \n",
    "    # create map with customer_id as key and loyalty_score as value\n",
    "    def create_map(self):\n",
    "        self.loyalty_score_map = {row.customer_id : row.loyalty_score for row in self.df.collect()}"
   ]
  },
  {
   "cell_type": "code",
   "execution_count": 5,
   "id": "2eb2370b",
   "metadata": {},
   "outputs": [],
   "source": [
    "class Products:\n",
    "    \n",
    "    # Initialse object with csv file as parameter\n",
    "    def __init__(self,file):\n",
    "        self.df = spark.read.csv(file,header=True)\n",
    "    \n",
    "    # create map with product_id as key and product_category as value\n",
    "    def create_map(self):\n",
    "        self.product_map = {row.product_id : row.product_category for row in self.df.collect()}"
   ]
  },
  {
   "cell_type": "markdown",
   "id": "45409221",
   "metadata": {},
   "source": [
    "## Unit testing using pyspark"
   ]
  },
  {
   "cell_type": "code",
   "execution_count": 6,
   "id": "9ceadede",
   "metadata": {},
   "outputs": [],
   "source": [
    "## Function for unit testing using pytest\n",
    "\n",
    "import pytest\n",
    "import ipytest\n",
    "\n",
    "def test_Transactions():\n",
    "    trans = Transactions('C:/Users/PAVAN/Downloads/transactions.json')\n",
    "    assert trans.df.columns == ['basket', 'customer_id', 'date_of_purchase']\n",
    "    trans.transform_data()\n",
    "    assert trans.df.columns == ['customer_id', 'product_id', 'purchase_count_per_product_id']\n",
    "    \n",
    "def test_Customers():\n",
    "    cust = Customers('C:/Users/PAVAN/Downloads/customers.csv')\n",
    "    assert cust.df.columns == ['customer_id', 'loyalty_score']\n",
    "    cust.create_map()\n",
    "    assert type(cust.loyalty_score_map) == dict\n",
    "\n",
    "def test_Products():\n",
    "    prod = Products('C:/Users/PAVAN/Downloads/products.csv')\n",
    "    assert prod.df.columns == ['product_id', 'product_description', 'product_category']\n",
    "    prod.create_map()\n",
    "    assert type(prod.product_map) == dict"
   ]
  },
  {
   "cell_type": "code",
   "execution_count": 7,
   "id": "76398d5a",
   "metadata": {},
   "outputs": [
    {
     "name": "stdout",
     "output_type": "stream",
     "text": [
      "======================================= test session starts =======================================\n",
      "platform win32 -- Python 3.8.8, pytest-6.2.3, py-1.10.0, pluggy-0.13.1\n",
      "rootdir: C:\\Users\\PAVAN\n",
      "plugins: anyio-2.2.0\n",
      "collected 3 items\n",
      "\n",
      "tmpieylhwy2.py ...                                                                           [100%]\n",
      "\n",
      "======================================== warnings summary =========================================\n",
      "anaconda3\\lib\\site-packages\\pyreadline\\py3k_compat.py:8\n",
      "  C:\\Users\\PAVAN\\anaconda3\\lib\\site-packages\\pyreadline\\py3k_compat.py:8: DeprecationWarning: Using or importing the ABCs from 'collections' instead of from 'collections.abc' is deprecated since Python 3.3, and in 3.9 it will stop working\n",
      "    return isinstance(x, collections.Callable)\n",
      "\n",
      "-- Docs: https://docs.pytest.org/en/stable/warnings.html\n",
      "================================== 3 passed, 1 warning in 13.96s ==================================\n"
     ]
    }
   ],
   "source": [
    "ipytest.run()"
   ]
  },
  {
   "cell_type": "code",
   "execution_count": 8,
   "id": "d5fab8d6",
   "metadata": {},
   "outputs": [],
   "source": [
    "# Callling the class Objects and methods\n",
    "\n",
    "trans = Transactions('C:/Users/PAVAN/Downloads/transactions.json')\n",
    "trans.transform_data()\n",
    "cust = Customers('C:/Users/PAVAN/Downloads/customers.csv')\n",
    "cust.create_map()\n",
    "prod = Products('C:/Users/PAVAN/Downloads/products.csv')\n",
    "prod.create_map()"
   ]
  },
  {
   "cell_type": "code",
   "execution_count": 9,
   "id": "6cc63118",
   "metadata": {},
   "outputs": [
    {
     "name": "stdout",
     "output_type": "stream",
     "text": [
      "+-----------+----------+-----------------------------+\n",
      "|customer_id|product_id|purchase_count_per_product_id|\n",
      "+-----------+----------+-----------------------------+\n",
      "|         C1|        P1|                            2|\n",
      "|         C1|        P3|                            1|\n",
      "|         C2|        P1|                            1|\n",
      "|         C2|        P2|                            1|\n",
      "|         C3|        P1|                            1|\n",
      "|         C3|        P2|                            1|\n",
      "|         C4|        P1|                            1|\n",
      "|         C4|        P2|                            1|\n",
      "|         C5|        P1|                            1|\n",
      "|         C5|        P2|                            1|\n",
      "|         C6|        P1|                            1|\n",
      "|         C6|        P2|                            1|\n",
      "|         C7|        P1|                            1|\n",
      "|         C7|        P2|                            1|\n",
      "+-----------+----------+-----------------------------+\n",
      "\n"
     ]
    }
   ],
   "source": [
    "# printing the transactions data\n",
    "trans.df.show()"
   ]
  },
  {
   "cell_type": "markdown",
   "id": "94fde23a",
   "metadata": {},
   "source": [
    "##  Creating final DataFrame"
   ]
  },
  {
   "cell_type": "code",
   "execution_count": 10,
   "id": "8aabef7c",
   "metadata": {},
   "outputs": [],
   "source": [
    "# create a global variable df for final output\n",
    "df = trans.df"
   ]
  },
  {
   "cell_type": "code",
   "execution_count": 11,
   "id": "60d32333",
   "metadata": {},
   "outputs": [],
   "source": [
    "# Function to create final required table\n",
    "\n",
    "def merge():\n",
    "    global df\n",
    "    df = df.withColumn('loyalty_score',df['customer_id'])\n",
    "    df = df.replace(cust.loyalty_score_map, subset = 'loyalty_score')\n",
    "    df = df.withColumn('product_category',df['product_id'])\n",
    "    df = df.replace(prod.product_map, subset = 'product_category')\n",
    "    df = df.select('customer_id','loyalty_score','product_id','product_category','purchase_count_per_product_id')"
   ]
  },
  {
   "cell_type": "code",
   "execution_count": 12,
   "id": "b0e061e9",
   "metadata": {},
   "outputs": [],
   "source": [
    "# calling the function merge\n",
    "\n",
    "merge()"
   ]
  },
  {
   "cell_type": "code",
   "execution_count": 13,
   "id": "49f57bfc",
   "metadata": {
    "scrolled": true
   },
   "outputs": [
    {
     "name": "stdout",
     "output_type": "stream",
     "text": [
      "+-----------+-------------+----------+----------------+-----------------------------+\n",
      "|customer_id|loyalty_score|product_id|product_category|purchase_count_per_product_id|\n",
      "+-----------+-------------+----------+----------------+-----------------------------+\n",
      "|         C1|           10|        P1|               1|                            2|\n",
      "|         C1|           10|        P3|               3|                            1|\n",
      "|         C2|          232|        P1|               1|                            1|\n",
      "|         C2|          232|        P2|               2|                            1|\n",
      "|         C3|           23|        P1|               1|                            1|\n",
      "|         C3|           23|        P2|               2|                            1|\n",
      "|         C4|           14|        P1|               1|                            1|\n",
      "|         C4|           14|        P2|               2|                            1|\n",
      "|         C5|           52|        P1|               1|                            1|\n",
      "|         C5|           52|        P2|               2|                            1|\n",
      "|         C6|           53|        P1|               1|                            1|\n",
      "|         C6|           53|        P2|               2|                            1|\n",
      "|         C7|          323|        P1|               1|                            1|\n",
      "|         C7|          323|        P2|               2|                            1|\n",
      "+-----------+-------------+----------+----------------+-----------------------------+\n",
      "\n"
     ]
    }
   ],
   "source": [
    "# this is the final required dataframe\n",
    "df.show()"
   ]
  },
  {
   "cell_type": "code",
   "execution_count": null,
   "id": "7b639f7d",
   "metadata": {},
   "outputs": [],
   "source": []
  }
 ],
 "metadata": {
  "kernelspec": {
   "display_name": "Python 3",
   "language": "python",
   "name": "python3"
  },
  "language_info": {
   "codemirror_mode": {
    "name": "ipython",
    "version": 3
   },
   "file_extension": ".py",
   "mimetype": "text/x-python",
   "name": "python",
   "nbconvert_exporter": "python",
   "pygments_lexer": "ipython3",
   "version": "3.8.8"
  }
 },
 "nbformat": 4,
 "nbformat_minor": 5
}
